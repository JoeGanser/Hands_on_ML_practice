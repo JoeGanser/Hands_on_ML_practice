{
 "cells": [
  {
   "cell_type": "markdown",
   "metadata": {},
   "source": [
    "In this process, we will use tensor flow to solve for the housing data regression problem"
   ]
  },
  {
   "cell_type": "code",
   "execution_count": 1,
   "metadata": {},
   "outputs": [
    {
     "data": {
      "text/plain": [
       "8"
      ]
     },
     "execution_count": 1,
     "metadata": {},
     "output_type": "execute_result"
    }
   ],
   "source": [
    "from sklearn.datasets import fetch_california_housing\n",
    "import numpy as np\n",
    "import pandas as pd\n",
    "\n",
    "housing = fetch_california_housing()\n",
    "\n",
    "#identify the shape of the dataset\n",
    "m, n = housing.data.shape\n",
    "\n",
    "#add a bias term for linear regression\n",
    "housing_data_plus_bias = np.c_[np.ones((m,1)),housing.data]\n",
    "n"
   ]
  },
  {
   "cell_type": "markdown",
   "metadata": {},
   "source": [
    "Now we specify the math behind the least-squares regression"
   ]
  },
  {
   "cell_type": "code",
   "execution_count": 2,
   "metadata": {},
   "outputs": [
    {
     "name": "stderr",
     "output_type": "stream",
     "text": [
      "/anaconda3/lib/python3.6/site-packages/h5py/__init__.py:36: FutureWarning: Conversion of the second argument of issubdtype from `float` to `np.floating` is deprecated. In future, it will be treated as `np.float64 == np.dtype(float).type`.\n",
      "  from ._conv import register_converters as _register_converters\n"
     ]
    },
    {
     "name": "stdout",
     "output_type": "stream",
     "text": [
      "[[-3.7185181e+01]\n",
      " [ 4.3633747e-01]\n",
      " [ 9.3952334e-03]\n",
      " [-1.0711310e-01]\n",
      " [ 6.4479220e-01]\n",
      " [-4.0338000e-06]\n",
      " [-3.7813708e-03]\n",
      " [-4.2348403e-01]\n",
      " [-4.3721911e-01]]\n"
     ]
    }
   ],
   "source": [
    "import tensorflow as tf\n",
    "#create tensor flow objects that constrain the matrices used in the data\n",
    "X = tf.constant(housing_data_plus_bias,dtype=tf.float32, name=\"X\")\n",
    "y = tf.constant(housing.target.reshape(-1,1), dtype=tf.float32, name=\"y\")\n",
    "XT = tf.transpose(X) #transpose of X, used in the theta formula\n",
    "\n",
    "#create the theta used for least squares\n",
    "theta = tf.matmul(tf.matmul(tf.matrix_inverse(tf.matmul(XT,X)),XT),y)\n",
    "\n",
    "with tf.Session() as sess:\n",
    "    theta_value = theta.eval()\n",
    "print(theta_value)"
   ]
  },
  {
   "cell_type": "markdown",
   "metadata": {},
   "source": [
    "Now lets create a stochastic gradient descent process."
   ]
  },
  {
   "cell_type": "code",
   "execution_count": 3,
   "metadata": {},
   "outputs": [
    {
     "name": "stdout",
     "output_type": "stream",
     "text": [
      "batch index:  0\n",
      "Epoch 0 MSE =  5.711838\n",
      "batch index:  0\n",
      "Epoch 1 MSE =  5.671631\n",
      "batch index:  0\n",
      "Epoch 2 MSE =  5.632907\n",
      "batch index:  0\n",
      "Epoch 3 MSE =  5.5985513\n",
      "batch index:  0\n",
      "Epoch 4 MSE =  5.567606\n",
      "batch index:  0\n",
      "Epoch 5 MSE =  5.5365086\n",
      "batch index:  0\n",
      "Epoch 6 MSE =  5.5076685\n",
      "batch index:  0\n",
      "Epoch 7 MSE =  5.480321\n",
      "batch index:  0\n",
      "Epoch 8 MSE =  5.4535875\n",
      "batch index:  0\n",
      "Epoch 9 MSE =  5.4304338\n",
      "batch index:  0\n",
      "Epoch 10 MSE =  5.406124\n",
      "batch index:  0\n",
      "Epoch 11 MSE =  5.3842926\n",
      "batch index:  0\n",
      "Epoch 12 MSE =  5.3642025\n",
      "batch index:  0\n",
      "Epoch 13 MSE =  5.3445034\n",
      "batch index:  0\n",
      "Epoch 14 MSE =  5.3256764\n",
      "batch index:  0\n",
      "Epoch 15 MSE =  5.3083878\n",
      "batch index:  0\n",
      "Epoch 16 MSE =  5.2918057\n",
      "batch index:  0\n",
      "Epoch 17 MSE =  5.276025\n",
      "batch index:  0\n",
      "Epoch 18 MSE =  5.2598433\n",
      "batch index:  0\n",
      "Epoch 19 MSE =  5.2457333\n",
      "batch index:  0\n",
      "Epoch 20 MSE =  5.2317567\n",
      "batch index:  0\n",
      "Epoch 21 MSE =  5.2181983\n",
      "batch index:  0\n",
      "Epoch 22 MSE =  5.2056866\n",
      "batch index:  0\n",
      "Epoch 23 MSE =  5.19282\n",
      "batch index:  0\n",
      "Epoch 24 MSE =  5.1808543\n",
      "batch index:  0\n",
      "Epoch 25 MSE =  5.1701264\n",
      "batch index:  0\n",
      "Epoch 26 MSE =  5.1596627\n",
      "batch index:  0\n",
      "Epoch 27 MSE =  5.1492147\n",
      "batch index:  0\n",
      "Epoch 28 MSE =  5.138906\n",
      "batch index:  0\n",
      "Epoch 29 MSE =  5.129474\n",
      "batch index:  0\n",
      "Epoch 30 MSE =  5.120432\n",
      "batch index:  0\n",
      "Epoch 31 MSE =  5.111397\n",
      "batch index:  0\n",
      "Epoch 32 MSE =  5.103802\n",
      "batch index:  0\n",
      "Epoch 33 MSE =  5.0952344\n",
      "batch index:  0\n",
      "Epoch 34 MSE =  5.0873275\n",
      "batch index:  0\n",
      "Epoch 35 MSE =  5.080098\n",
      "batch index:  0\n",
      "Epoch 36 MSE =  5.073107\n",
      "batch index:  0\n",
      "Epoch 37 MSE =  5.0664244\n",
      "batch index:  0\n",
      "Epoch 38 MSE =  5.059879\n",
      "batch index:  0\n",
      "Epoch 39 MSE =  5.053743\n",
      "batch index:  0\n",
      "Epoch 40 MSE =  5.0478096\n",
      "batch index:  0\n",
      "Epoch 41 MSE =  5.042126\n",
      "batch index:  0\n",
      "Epoch 42 MSE =  5.036668\n",
      "batch index:  0\n",
      "Epoch 43 MSE =  5.0315795\n",
      "batch index:  0\n",
      "Epoch 44 MSE =  5.02641\n",
      "batch index:  0\n",
      "Epoch 45 MSE =  5.0212407\n",
      "batch index:  0\n",
      "Epoch 46 MSE =  5.016438\n",
      "batch index:  0\n",
      "Epoch 47 MSE =  5.0120845\n",
      "batch index:  0\n",
      "Epoch 48 MSE =  5.0075116\n",
      "batch index:  0\n",
      "Epoch 49 MSE =  5.003144\n",
      "batch index:  0\n",
      "Epoch 50 MSE =  4.9988194\n",
      "batch index:  0\n",
      "Epoch 51 MSE =  4.9946504\n",
      "batch index:  0\n",
      "Epoch 52 MSE =  4.990544\n",
      "batch index:  0\n",
      "Epoch 53 MSE =  4.986548\n",
      "batch index:  0\n",
      "Epoch 54 MSE =  4.9826837\n",
      "batch index:  0\n",
      "Epoch 55 MSE =  4.9793506\n",
      "batch index:  0\n",
      "Epoch 56 MSE =  4.9756265\n",
      "batch index:  0\n",
      "Epoch 57 MSE =  4.972038\n",
      "batch index:  0\n",
      "Epoch 58 MSE =  4.9691\n",
      "batch index:  0\n",
      "Epoch 59 MSE =  4.9660416\n",
      "batch index:  0\n",
      "Epoch 60 MSE =  4.9626455\n",
      "batch index:  0\n",
      "Epoch 61 MSE =  4.959607\n",
      "batch index:  0\n",
      "Epoch 62 MSE =  4.956533\n",
      "batch index:  0\n",
      "Epoch 63 MSE =  4.953837\n",
      "batch index:  0\n",
      "Epoch 64 MSE =  4.951024\n",
      "batch index:  0\n",
      "Epoch 65 MSE =  4.94846\n",
      "batch index:  0\n",
      "Epoch 66 MSE =  4.9462237\n",
      "batch index:  0\n",
      "Epoch 67 MSE =  4.94381\n",
      "batch index:  0\n",
      "Epoch 68 MSE =  4.9413934\n",
      "batch index:  0\n",
      "Epoch 69 MSE =  4.9389324\n",
      "batch index:  0\n",
      "Epoch 70 MSE =  4.9366493\n",
      "batch index:  0\n",
      "Epoch 71 MSE =  4.934546\n",
      "batch index:  0\n",
      "Epoch 72 MSE =  4.9321904\n",
      "batch index:  0\n",
      "Epoch 73 MSE =  4.930105\n",
      "batch index:  0\n",
      "Epoch 74 MSE =  4.928253\n",
      "batch index:  0\n",
      "Epoch 75 MSE =  4.926186\n",
      "batch index:  0\n",
      "Epoch 76 MSE =  4.92433\n",
      "batch index:  0\n",
      "Epoch 77 MSE =  4.9227257\n",
      "batch index:  0\n",
      "Epoch 78 MSE =  4.920985\n",
      "batch index:  0\n",
      "Epoch 79 MSE =  4.9192853\n",
      "batch index:  0\n",
      "Epoch 80 MSE =  4.917566\n",
      "batch index:  0\n",
      "Epoch 81 MSE =  4.915962\n",
      "batch index:  0\n",
      "Epoch 82 MSE =  4.9142065\n",
      "batch index:  0\n",
      "Epoch 83 MSE =  4.9128118\n",
      "batch index:  0\n",
      "Epoch 84 MSE =  4.911259\n",
      "batch index:  0\n",
      "Epoch 85 MSE =  4.909792\n",
      "batch index:  0\n",
      "Epoch 86 MSE =  4.9083834\n",
      "batch index:  0\n",
      "Epoch 87 MSE =  4.90682\n",
      "batch index:  0\n",
      "Epoch 88 MSE =  4.9053454\n",
      "batch index:  0\n",
      "Epoch 89 MSE =  4.904065\n",
      "batch index:  0\n",
      "Epoch 90 MSE =  4.9026117\n",
      "batch index:  0\n",
      "Epoch 91 MSE =  4.9012356\n",
      "batch index:  0\n",
      "Epoch 92 MSE =  4.899916\n",
      "batch index:  0\n",
      "Epoch 93 MSE =  4.8986826\n",
      "batch index:  0\n",
      "Epoch 94 MSE =  4.8975616\n",
      "batch index:  0\n",
      "Epoch 95 MSE =  4.8964744\n",
      "batch index:  0\n",
      "Epoch 96 MSE =  4.895308\n",
      "batch index:  0\n",
      "Epoch 97 MSE =  4.8942327\n",
      "batch index:  0\n",
      "Epoch 98 MSE =  4.8930635\n",
      "batch index:  0\n",
      "Epoch 99 MSE =  4.891904\n",
      "Minimum error:  4.891904\n"
     ]
    }
   ],
   "source": [
    "tf.reset_default_graph()\n",
    "\n",
    "#specify the epochs and learning rate\n",
    "n_epochs = 100\n",
    "learning_rate = 0.01\n",
    "batch_size = 20640\n",
    "n_batches = int(np.ceil(m/batch_size))\n",
    "\n",
    "#We will want to put the data into a scaled format\n",
    "from sklearn.preprocessing import StandardScaler\n",
    "ss = StandardScaler()\n",
    "scaled_housing_data_plus_bias = ss.fit_transform(housing_data_plus_bias)\n",
    "\n",
    "#now we specify our data X and target y as tensor flow constants\n",
    "X = tf.constant(scaled_housing_data_plus_bias, dtype=tf.float32,name=\"X\")\n",
    "y = tf.constant(housing.target.reshape(-1,1), dtype=tf.float32, name=\"y\")\n",
    "\n",
    "# now to specify stochastic gradient descent, we must create a set of\n",
    "# random steps\n",
    "theta = tf.Variable(tf.random_uniform([n+1,1],-1,1),name=\"theta\")\n",
    "y_pred = tf.matmul(X,theta, name=\"predictions\")\n",
    "#now specify the error\n",
    "error = y_pred - y\n",
    "\n",
    "#now specify mean squared error\n",
    "mse = tf.reduce_mean(tf.square(error), name=\"mse\")\n",
    "\n",
    "#now specify the gradients\n",
    "#gradients = (2/m)*tf.matmul(tf.transpose(X), error)\n",
    "#We could also have coded\n",
    "gradients = tf.gradients(mse,[theta])[0]\n",
    "\n",
    "#now make for a reassignment of theta after each new iteration\n",
    "#training_op = tf.assign(theta, theta - learning_rate*gradients)\n",
    "\n",
    "#OR we could have used (and not even needed a gradients object!)\n",
    "optimizer = tf.train.GradientDescentOptimizer(learning_rate=learning_rate)\n",
    "training_op = optimizer.minimize(mse)\n",
    "\n",
    "\n",
    "#initialize the variables\n",
    "init = tf.global_variables_initializer()\n",
    "\n",
    "#save each mean squared error\n",
    "mses = []\n",
    "\n",
    "#create a function that gets a batch of data from the main data set\n",
    "\n",
    "def fetch_batch(epoch, batch_index, batch_size):\n",
    "    np.random.seed(epoch * n_batches + batch_index) \n",
    "    indices = np.random.randint(m, size=batch_size) \n",
    "    X_batch = scaled_housing_data_plus_bias[indices]\n",
    "    y_batch = housing.target.reshape(-1, 1)[indices]\n",
    "    return X_batch, y_batch\n",
    "\n",
    "#now start the session\n",
    "with tf.Session() as sess:\n",
    "    sess.run(init)\n",
    "    for epoch in range(n_epochs):\n",
    "        for batch_index in range(n_batches):\n",
    "            X_batch, y_batch = fetch_batch(epoch, batch_index, batch_size)\n",
    "            sess.run(training_op, feed_dict={X:X_batch, y:y_batch})\n",
    "            best_theta = theta.eval()\n",
    "            mses.append(mse.eval())\n",
    "            print('batch index: ',batch_index)\n",
    "            print(\"Epoch\", epoch, \"MSE = \",mse.eval())\n",
    "\n",
    "print(\"Minimum error: \",min(mses))"
   ]
  },
  {
   "cell_type": "markdown",
   "metadata": {},
   "source": [
    "Once you have trained your model, you should save it's parameters to disk so you can comeback to it when you want, use it to compare to other models, etc.\n",
    "\n",
    "You probably want to save checkpoints at regular intervals during training, so that if your computer crashes you can return to that point rather than starting over from scratch.\n",
    "\n",
    "Tensor flow makes saving and restoring models very easy. We create a saver node at the end of the construction phase (after all variable nodes are created). Then during the execution phase, just call its save method whenever you want to save the model."
   ]
  },
  {
   "cell_type": "code",
   "execution_count": 4,
   "metadata": {},
   "outputs": [],
   "source": [
    "saver = tf.train.Saver()\n",
    "with tf.Session() as sess:\n",
    "    sess.run(init)\n",
    "    \n",
    "    for epoch in range(n_epochs):\n",
    "        if epoch%10==0:\n",
    "            save_path = saver.save(sess,\"/tmp/my_model_\"+str(epoch)+\"_.ckpt\")\n",
    "        \n",
    "        sess.run(training_op)\n",
    "    best_theta = theta.eval()\n",
    "    save_path = saver.save(sess,\"/tmp/my_model_final_finished.ckpt\")"
   ]
  },
  {
   "cell_type": "markdown",
   "metadata": {},
   "source": [
    "To restore the model, we just perform the restore method of saver."
   ]
  },
  {
   "cell_type": "code",
   "execution_count": 6,
   "metadata": {},
   "outputs": [
    {
     "name": "stdout",
     "output_type": "stream",
     "text": [
      "INFO:tensorflow:Restoring parameters from /tmp/my_model_final_finished.ckpt\n"
     ]
    }
   ],
   "source": [
    "with tf.Session() as sess:\n",
    "    saver.restore(sess, \"/tmp/my_model_final_finished.ckpt\")"
   ]
  },
  {
   "cell_type": "markdown",
   "metadata": {},
   "source": [
    "Ch9 Problem 12: Logistic regression classification problem."
   ]
  },
  {
   "cell_type": "code",
   "execution_count": 3,
   "metadata": {},
   "outputs": [
    {
     "data": {
      "image/png": "[encoded data removed]",
      "text/plain": [
       "<Figure size 432x288 with 1 Axes>"
      ]
     },
     "metadata": {},
     "output_type": "display_data"
    }
   ],
   "source": [
    "import matplotlib.pyplot as plt\n",
    "from sklearn.datasets import make_moons\n",
    "m = 1000\n",
    "X_moons,y_moons = make_moons(m, noise=0.1, random_state=42)\n",
    "plt.plot(X_moons[y_moons==1,0],X_moons[y_moons==1,1],'go',label=\"+\")\n",
    "plt.plot(X_moons[y_moons==0,0],X_moons[y_moons==0,1],'r^',label=\"-\")\n",
    "plt.legend()\n",
    "plt.show()"
   ]
  },
  {
   "cell_type": "code",
   "execution_count": 4,
   "metadata": {},
   "outputs": [],
   "source": [
    "test_ratio = 0.2\n",
    "test_size = int(m*test_ratio)\n",
    "X_moons_with_bias = np.c_[np.ones((m,1)),X_moons]\n",
    "y_moons_column_vector = y_moons.reshape(-1,1)\n",
    "\n",
    "X_train = X_moons_with_bias[:-test_size]\n",
    "X_test = X_moons_with_bias[-test_size:]\n",
    "y_train = y_moons_column_vector[:-test_size]\n",
    "y_test = y_moons_column_vector[-test_size:]\n",
    "X_moons_with_bias = np.c_[np.ones((m,1)),X_moons]"
   ]
  },
  {
   "cell_type": "code",
   "execution_count": 12,
   "metadata": {},
   "outputs": [],
   "source": [
    "import tensorflow as tf\n",
    "tf.reset_default_graph()\n",
    "\n",
    "#Now create a place to input the data to when training the model using placeholders\n",
    "n_inputs = 2\n",
    "X = tf.placeholder(tf.float32,shape=(None,n_inputs+1),name=\"X\")\n",
    "y = tf.placeholder(tf.float32,shape=(None,1),name=\"y\")\n",
    "\n",
    "def fetch_batch(epoch, batch_index, batch_size):\n",
    "    np.random.seed(epoch * n_batches + batch_index) \n",
    "    indices = np.random.randint(m, size=batch_size) \n",
    "    X_batch = scaled_housing_data_plus_bias[indices]\n",
    "    y_batch = housing.target.reshape(-1, 1)[indices]\n",
    "    return X_batch, y_batch\n",
    "\n",
    "#Now we will be using a batched gradient descent to find the minimized error, so create a variable structure theta\n",
    "#you need a random normal distribution inside theta so these\n",
    "theta = tf.Variable(tf.random_normal([n_inputs+1,1],-1,1,seed=42),name=\"theta\")\n",
    "\n",
    "#Now at each instant we want to make a prediction and modify the error\n",
    "y_lin = tf.matmul(X,theta,name=\"y_lin\")\n",
    "\n",
    "#Now this process is a logitistic regression. How does logistic regression work? \n",
    "# we have a matrix multiplied by a value... then that value is taken exponentially and add 1 to it.\n",
    "#exp = tf.exp(y_lin,name=\"exp\")\n",
    "#y_pred = tf.reciprocal(exp+1, name=\"y_pred\")\n",
    "\n",
    "#we could have also put this into the sigmoid function\n",
    "\n",
    "y_pred = tf.sigmoid(y_lin,name=\"sigmoid\")\n",
    "\n",
    "#Now we have to define a log loss.\n",
    "#then we define a process of putting lowering the error\n",
    "error = tf.losses.log_loss(y,y_pred)\n",
    "\n",
    "#Now specify the learning rate\n",
    "learning_rate = 0.01\n",
    "#now specify the optimizer\n",
    "optimizer = tf.train.GradientDescentOptimizer(learning_rate=learning_rate)\n",
    "training_op = optimizer.minimize(error)\n",
    "\n",
    "#Now initialize global variabls\n",
    "init = tf.global_variables_initializer()"
   ]
  },
  {
   "cell_type": "code",
   "execution_count": 15,
   "metadata": {},
   "outputs": [
    {
     "name": "stdout",
     "output_type": "stream",
     "text": [
      "loss:  0.9956636\n",
      "loss:  0.2895711\n",
      "loss:  0.27856556\n",
      "loss:  0.27498057\n",
      "loss:  0.2735479\n",
      "loss:  0.27414542\n",
      "loss:  0.27374113\n",
      "loss:  0.2741371\n",
      "loss:  0.27423912\n",
      "loss:  0.27391765\n"
     ]
    }
   ],
   "source": [
    "n_epochs = 1000\n",
    "batch_size = 50\n",
    "data = X_moons\n",
    "n_batches = int(np.ceil(data.shape[0]/batch_size))\n",
    "\n",
    "def random_batch(X_train,y_train, batch_size):\n",
    "    rnd_indices = np.random.randint(0,len(X_train),batch_size)\n",
    "    X_batch = X_train[rnd_indices]\n",
    "    y_batch = y_train[rnd_indices]\n",
    "    return X_batch, y_batch\n",
    "\n",
    "with tf.Session() as sess:\n",
    "    sess.run(init)\n",
    "    for epoch in range(n_epochs):\n",
    "        for batch in range(batch_size):\n",
    "            #fetch a batch at each point\n",
    "            X_batch, y_batch = random_batch(X_train, y_train,batch_size)\n",
    "            #use the session to run the training optimizer\n",
    "            sess.run(training_op,feed_dict={X:X_batch,y:y_batch})\n",
    "        loss_val = error.eval({X:X_test,y:y_test})\n",
    "        if epoch%100==0:\n",
    "            print('loss: ',loss_val)"
   ]
  },
  {
   "cell_type": "markdown",
   "metadata": {},
   "source": [
    "# Problem in chapter 9:\n",
    "   * Make a binary classifier using a logistic regression() neural net that can be reused easily.\n",
    "   * Save checkpoints using a saver at regular intervals during training, and save the final model at the end of training.\n",
    "   * Restore the last checkpoint upon startup if training was interrupted\n",
    "   * Define the graph using nice scopes so the graph looks in Tensorboard\n",
    "   * Add summaries to visualize learning curves in tensor board\n",
    "   * Try modifying hyperparameters such as learning rate/batch size and look at the shape of the learning curve."
   ]
  },
  {
   "cell_type": "markdown",
   "metadata": {},
   "source": [
    "### Modify the data\n",
    "\n",
    "One technique that might result in better performance is to modify the features and create new ones so that we have polynomial features, such as x**2 and x**3."
   ]
  },
  {
   "cell_type": "code",
   "execution_count": 5,
   "metadata": {},
   "outputs": [
    {
     "name": "stderr",
     "output_type": "stream",
     "text": [
      "/anaconda3/lib/python3.6/site-packages/h5py/__init__.py:36: FutureWarning: Conversion of the second argument of issubdtype from `float` to `np.floating` is deprecated. In future, it will be treated as `np.float64 == np.dtype(float).type`.\n",
      "  from ._conv import register_converters as _register_converters\n"
     ]
    }
   ],
   "source": [
    "import matplotlib.pyplot as plt\n",
    "from sklearn.datasets import make_moons\n",
    "import tensorflow as tf\n",
    "m = 1000\n",
    "X_moons,y_moons = make_moons(m, noise=0.1, random_state=42)\n",
    "test_ratio = 0.2\n",
    "test_size = int(m*test_ratio)\n",
    "X_moons_with_bias = np.c_[np.ones((m,1)),X_moons]\n",
    "y_moons_column_vector = y_moons.reshape(-1,1)\n",
    "\n",
    "X_train = X_moons_with_bias[:-test_size]\n",
    "X_test = X_moons_with_bias[-test_size:]\n",
    "y_train = y_moons_column_vector[:-test_size]\n",
    "y_test = y_moons_column_vector[-test_size:]\n",
    "X_moons_with_bias = np.c_[np.ones((m,1)),X_moons]\n",
    "X_train_enhanced = np.c_[X_train, X_train[:,1]**2, X_train[:,2]**2, X_train[:,1]**3, X_train[:,2]**3]\n",
    "X_test_enhanced = np.c_[X_test, X_test[:,1]**2, X_test[:,2]**2, X_test[:,1]**3, X_test[:,2]**3]\n",
    "\n",
    "tf.reset_default_graph()"
   ]
  },
  {
   "cell_type": "markdown",
   "metadata": {},
   "source": [
    "Now make a function that builds the tensor flow graph"
   ]
  },
  {
   "cell_type": "markdown",
   "metadata": {},
   "source": []
  },
  {
   "cell_type": "code",
   "execution_count": 6,
   "metadata": {},
   "outputs": [],
   "source": [
    "def log_reg(X,y,initializer=None, seed=42, learning_rate=0.01):\n",
    "    n_inputs_including_bias = int(X.get_shape()[1])\n",
    "    with tf.name_scope(\"logistic_regression\"):\n",
    "        \n",
    "        #specify the model\n",
    "        with tf.name_scope(\"model\"):\n",
    "            # we specify an intializer to create a bunch of weights to start with\n",
    "            if initializer is None:\n",
    "                initializer = tf.random_uniform([n_inputs_including_bias,1],-1,1,seed=seed)\n",
    "            theta = tf.Variable(initializer,name=\"theta\")\n",
    "            logits = tf.matmul(X,theta, name=\"logits\")\n",
    "            y_proba = tf.sigmoid(logits)\n",
    "        \n",
    "        #specify the training procedure and loss optimization\n",
    "        with tf.name_scope(\"train\"):\n",
    "            loss = tf.losses.log_loss(y,y_proba, scope=\"loss\")\n",
    "            optimizer = tf.train.GradientDescentOptimizer(learning_rate=learning_rate)\n",
    "            training_op = optimizer.minimize(loss)\n",
    "            loss_summary = tf.summary.scalar('log_loss',loss)\n",
    "        \n",
    "        #specify the variables initializer\n",
    "        with tf.name_scope(\"init\"):\n",
    "            init = tf.global_variables_initializer()\n",
    "        \n",
    "        #specify a saver functionality\n",
    "        with tf.name_scope(\"save\"):\n",
    "            saver = tf.train.Saver()\n",
    "            \n",
    "        return y_proba, loss, training_op, loss_summary, init, saver"
   ]
  },
  {
   "cell_type": "markdown",
   "metadata": {},
   "source": [
    "Now specify the function to get the name of the logging directory used to save the summaries of a tensor board."
   ]
  },
  {
   "cell_type": "code",
   "execution_count": 7,
   "metadata": {},
   "outputs": [],
   "source": [
    "from datetime import datetime\n",
    "\n",
    "def log_directory(prefix=\"\"):\n",
    "    now = datetime.utcnow().strftime(\"%Y%m%d%H%M%S\")\n",
    "    root_logdir = \"tf_logs\"\n",
    "    if prefix:\n",
    "        prefix += '-'\n",
    "    name = prefix + 'run-'+now\n",
    "    return \"{}/{}\".format(root_logdir, name)"
   ]
  },
  {
   "cell_type": "markdown",
   "metadata": {
    "hidePrompt": true
   },
   "source": [
    "Now that we have a function to perform our operations, build a graph using tensor flow ops."
   ]
  },
  {
   "cell_type": "code",
   "execution_count": 8,
   "metadata": {},
   "outputs": [],
   "source": [
    "#specify inputs and the directory to save model evolution\n",
    "n_inputs = 6\n",
    "logdir = log_directory(\"logreg\")\n",
    "\n",
    "#initalize variables X and y\n",
    "X = tf.placeholder(tf.float32, shape=(None,n_inputs+1),name=\"X\")\n",
    "y = tf.placeholder(tf.float32, shape=(None,1), name=\"y\")\n",
    "\n",
    "y_proba, loss, training_op, loss_summary, init, saver = log_reg(X,y)\n",
    "\n",
    "file_writer = tf.summary.FileWriter(logdir, tf.get_default_graph())"
   ]
  },
  {
   "cell_type": "markdown",
   "metadata": {},
   "source": [
    "Now we can train the model. Start by checking whether a previousn traing was interrupted, if so load from the checkpoint and continue training from the epoch number we saved."
   ]
  },
  {
   "cell_type": "code",
   "execution_count": 15,
   "metadata": {},
   "outputs": [
    {
     "name": "stdout",
     "output_type": "stream",
     "text": [
      "f.read() b'15501'\n",
      "Training was interrupted, continuing at epoch  4501\n",
      "INFO:tensorflow:Restoring parameters from /tmp/my_logreg_model.ckpt\n",
      "Epoch: 5000 \t Loss: 0.02971563\n",
      "Epoch: 5500 \t Loss: 0.029370932\n",
      "Epoch: 6000 \t Loss: 0.02903011\n",
      "Epoch: 6500 \t Loss: 0.028709078\n",
      "Epoch: 7000 \t Loss: 0.02845581\n",
      "Epoch: 7500 \t Loss: 0.028137662\n",
      "Epoch: 8000 \t Loss: 0.027918482\n",
      "Epoch: 8500 \t Loss: 0.027613817\n",
      "Epoch: 9000 \t Loss: 0.027371831\n",
      "Epoch: 9500 \t Loss: 0.027152156\n",
      "Epoch: 10000 \t Loss: 0.026939759\n"
     ]
    }
   ],
   "source": [
    "def random_batch(X_train,y_train, batch_size):\n",
    "    rnd_indices = np.random.randint(0,len(X_train),batch_size)\n",
    "    X_batch = X_train[rnd_indices]\n",
    "    y_batch = y_train[rnd_indices]\n",
    "    return X_batch, y_batch\n",
    "\n",
    "import os\n",
    "#specify the number of epochs, batch size and the number of batches\n",
    "n_epochs = 10001\n",
    "batch_size = 50\n",
    "n_batches = int(np.ceil(m/batch_size))\n",
    "\n",
    "#specify the checkpoint paths for saving. One for checkpoints, one for each epoch and one for the final model\n",
    "checkpoint_path = \"/tmp/my_logreg_model.ckpt\"\n",
    "checkpoint_epoch_path = checkpoint_path + \".epoch\"\n",
    "final_model_path = \"./my_logreg_model\"\n",
    "\n",
    "#this is how we load a model from a training point\n",
    "with tf.Session() as sess:\n",
    "    if os.path.isfile(checkpoint_epoch_path):\n",
    "        #if the checkpoint file exists, restore the model and load the epoch number\n",
    "        with open(checkpoint_epoch_path, \"rb\") as f:\n",
    "            #this is how we save parts of the file\n",
    "            print(\"f.read()\",f.read())\n",
    "            #start_epoch = int(f.read())\n",
    "        print(\"Training was interrupted, continuing at epoch \", start_epoch)\n",
    "        saver.restore(sess, checkpoint_path)\n",
    "    \n",
    "    else:\n",
    "        start_epoch = 0\n",
    "        sess.run(init)\n",
    "    \n",
    "    #start training in from the start epoch, whether it be zero or another point\n",
    "    for epoch in range(start_epoch,n_epochs):\n",
    "        for batch_index in range(n_batches):\n",
    "            \n",
    "            #specify a batch to train with\n",
    "            X_batch, y_batch = random_batch(X_train_enhanced,y_train,batch_size)\n",
    "            \n",
    "            #train by running the training optimizer, feeding the right data\n",
    "            sess.run(training_op,feed_dict={X:X_batch,y:y_batch})\n",
    "            \n",
    "        #evaluate the loss at the end of each epoch, and get a summary string\n",
    "        loss_val,summary_str = sess.run([loss,loss_summary],feed_dict={X:X_test_enhanced,y:y_test})\n",
    "        \n",
    "        #add a summary to the tensor graph\n",
    "        file_writer.add_summary(summary_str,epoch)\n",
    "        \n",
    "        #At every 500 epochs, make an incremental save\n",
    "        if epoch%500==0:\n",
    "            print(\"Epoch:\",epoch, \"\\t Loss:\",loss_val)\n",
    "            saver.save(sess,checkpoint_path)\n",
    "            \n",
    "            with open(checkpoint_epoch_path, \"wb\") as f:\n",
    "                f.write(b\"%d\"%(epoch+1))\n",
    "    \n",
    "    #at the end of the training, save the model\n",
    "    saver.save(sess, final_model_path)\n",
    "    \n",
    "    #evaluate the probability\n",
    "    y_proba_val = y_proba.eval(feed_dict={X:X_test_enhanced, y:y_test})\n",
    "    \n",
    "    os.remove(checkpoint_epoch_path)"
   ]
  },
  {
   "cell_type": "markdown",
   "metadata": {},
   "source": [
    "Now we check to see the precision and recall"
   ]
  },
  {
   "cell_type": "code",
   "execution_count": 20,
   "metadata": {},
   "outputs": [
    {
     "name": "stdout",
     "output_type": "stream",
     "text": [
      "Precision:  0.9797979797979798\n",
      "Recall:  0.9797979797979798\n"
     ]
    }
   ],
   "source": [
    "from sklearn.metrics import precision_score, recall_score\n",
    "y_pred = (y_proba_val >= 0.5)\n",
    "print(\"Precision: \", precision_score(y_pred,y_test))\n",
    "print(\"Recall: \",recall_score(y_pred,y_test))"
   ]
  },
  {
   "cell_type": "code",
   "execution_count": 28,
   "metadata": {},
   "outputs": [
    {
     "ename": "IndentationError",
     "evalue": "unindent does not match any outer indentation level (<tokenize>, line 6)",
     "output_type": "error",
     "traceback": [
      "\u001b[0;36m  File \u001b[0;32m\"<tokenize>\"\u001b[0;36m, line \u001b[0;32m6\u001b[0m\n\u001b[0;31m    print(\"Training was interrupted, continuing at epoch \", start_epoch)\u001b[0m\n\u001b[0m    ^\u001b[0m\n\u001b[0;31mIndentationError\u001b[0m\u001b[0;31m:\u001b[0m unindent does not match any outer indentation level\n"
     ]
    }
   ],
   "source": [
    "if os.path.isfile(checkpoint_epoch_path):\n",
    "        #if the checkpoint file exists, restore the model and load the epoch number\n",
    "    with open(checkpoint_epoch_path, \"rb\") as f:\n",
    "            #this is how we save parts of the file\n",
    "            print(f.read())\n",
    "        print(\"Training was interrupted, continuing at epoch \", start_epoch)\n",
    "        #saver.restore(sess, checkpoint_path)"
   ]
  },
  {
   "cell_type": "code",
   "execution_count": 24,
   "metadata": {},
   "outputs": [
    {
     "data": {
      "text/plain": [
       "True"
      ]
     },
     "execution_count": 24,
     "metadata": {},
     "output_type": "execute_result"
    }
   ],
   "source": [
    "os.path.isfile(checkpoint_epoch_path)"
   ]
  },
  {
   "cell_type": "code",
   "execution_count": null,
   "metadata": {},
   "outputs": [],
   "source": []
  }
 ],
 "metadata": {
  "kernelspec": {
   "display_name": "Python 3",
   "language": "python",
   "name": "python3"
  },
  "language_info": {
   "codemirror_mode": {
    "name": "ipython",
    "version": 3
   },
   "file_extension": ".py",
   "mimetype": "text/x-python",
   "name": "python",
   "nbconvert_exporter": "python",
   "pygments_lexer": "ipython3",
   "version": "3.6.7"
  }
 },
 "nbformat": 4,
 "nbformat_minor": 2
}
