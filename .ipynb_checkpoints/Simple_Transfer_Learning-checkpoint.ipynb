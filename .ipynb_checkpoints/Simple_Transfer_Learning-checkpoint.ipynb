{
 "cells": [
  {
   "cell_type": "code",
   "execution_count": 2,
   "metadata": {},
   "outputs": [],
   "source": [
    "import tensorflow as tf\n",
    "import numpy as np\n",
    "(X_train, y_train), (X_test, y_test) = tf.keras.datasets.mnist.load_data()\n",
    "X_train = X_train.astype(np.float32).reshape(-1, 28*28) / 255.0\n",
    "X_test = X_test.astype(np.float32).reshape(-1, 28*28) / 255.0\n",
    "y_train = y_train.astype(np.int32)\n",
    "y_test = y_test.astype(np.int32)\n",
    "X_valid, X_train = X_train[:5000], X_train[5000:]\n",
    "y_valid, y_train = y_train[:5000], y_train[5000:]\n",
    "\n",
    "X_train1 = X_train[y_train < 5]\n",
    "y_train1 = y_train[y_train < 5]\n",
    "X_valid1 = X_valid[y_valid < 5]\n",
    "y_valid1 = y_valid[y_valid < 5]\n",
    "X_test1 = X_test[y_test < 5]\n",
    "y_test1 = y_test[y_test < 5]\n",
    "\n",
    "\n",
    "X_train2 = X_train[y_train >= 5]\n",
    "y_train2 = y_train[y_train>=5]\n",
    "X_test2 = X_test[y_test >= 5]\n",
    "y_test2 = y_test[y_test >=5]"
   ]
  },
  {
   "cell_type": "markdown",
   "metadata": {},
   "source": [
    "Now build a simple tf neural network consisting of 5 layers that trains on categories 1-5.\n",
    "\n",
    "What must we do to build this?\n",
    "* Specify the model scope - building the layers and output\n",
    "* Specify the optimizer - adam optimizer, the loss function, what needs to be minimized, etc.\n",
    "* Specify the training scope, the process of training the data\n",
    "* Specify the batch size, number of epochs\n",
    "* Specify the placeholders for the data"
   ]
  },
  {
   "cell_type": "code",
   "execution_count": 3,
   "metadata": {},
   "outputs": [],
   "source": [
    "n_inputs = 28*28\n",
    "n_outputs = 5\n",
    "N_layers = 5\n",
    "N_neurons = 100\n",
    "learning_rate = 0.01\n",
    "he_init = tf.variance_scaling_initializer()\n",
    "\n",
    "#Build the base model. Make it simple, dont use a function\n",
    "\n",
    "X = tf.placeholder(tf.float32, shape=(None,n_inputs),name=\"X\")\n",
    "y = tf.placeholder(tf.int32, shape=(None,1),name=\"y\")\n",
    "\n",
    "with tf.name_scope(\"simpleDNN\"):\n",
    "    for i in range(N_layers-1):\n",
    "        if i==0:\n",
    "            layer = tf.layers.dense(X,N_neurons, activation=tf.nn.elu,\n",
    "                                    kernel_initializer=he_init, name=\"hidden%d\" % (i + 1))\n",
    "        else:\n",
    "            layer = tf.layers.dense(layer,N_neurons, activation=tf.nn.elu,\n",
    "                                    kernel_initializer=he_init, name=\"hidden%d\" % (i + 1))\n",
    "            \n",
    "    logits = tf.layers.dense(layer,n_outputs, kernel_initializer=he_init, name=\"final_layer\")\n",
    "\n",
    "with tf.name_scope(\"error\"):\n",
    "    cross_entropy = tf.nn.sparse_softmax_cross_entropy_with_logits(labels=y,logits=logits)\n",
    "    loss = tf.reduce_mean(cross_entropy,name=\"loss\")\n",
    "\n",
    "with tf.name_scope(\"evaluate\"):\n",
    "    correct = tf.nn.in_top_k(logits,y,1)\n",
    "    accuracy = tf.nn.reduce_mean(tf.cast(correct,tf.float32),name=\"accuracy\")\n",
    "    \n",
    "with tf.name_scope(\"train\"):\n",
    "    optimizer = tf.train.AdamOptimizer(learning_rate=learning_rate)\n",
    "    training_op = optimizer.minimize(loss)"
   ]
  },
  {
   "cell_type": "code",
   "execution_count": null,
   "metadata": {},
   "outputs": [],
   "source": []
  }
 ],
 "metadata": {
  "kernelspec": {
   "display_name": "Python 3",
   "language": "python",
   "name": "python3"
  },
  "language_info": {
   "codemirror_mode": {
    "name": "ipython",
    "version": 3
   },
   "file_extension": ".py",
   "mimetype": "text/x-python",
   "name": "python",
   "nbconvert_exporter": "python",
   "pygments_lexer": "ipython3",
   "version": "3.6.7"
  }
 },
 "nbformat": 4,
 "nbformat_minor": 2
}
