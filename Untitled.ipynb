{
 "cells": [
  {
   "cell_type": "code",
   "execution_count": null,
   "metadata": {},
   "outputs": [],
   "source": [
    "import tensorflow as tf\n",
    "from tensorflow.contrib.layers import batch_norm\n",
    "\n",
    "#for mnist data\n",
    "n_inputs = 28*28\n",
    "n_hidden1 = 300  #neurons in 1st hidden layer\n",
    "n_hidden2 = 100 #nuerons in 2nd hidden layer\n",
    "n_outputs = 10 #number of classes\n",
    "\n",
    "X = tf.placeholder(tf.float32, shape=(None, n_inputs),name=\"X\")\n",
    "\n",
    "is_training = tf.placeholder(tf.bool, shape=(), name='is_training') #will be true during training, \n",
    "#tells batch_norm() function whether or not it should use current mini-batch's mean\n",
    "\n",
    "bn_params = {'is_training':is_training, 'decay':0.99, 'updates_collections':None}\n",
    "\n",
    "hidden1 = fully_connected(X,n_hidden1, scope=\"hidden1\", \n",
    "                          normalizer_fn = batch_norm, normalizer_params=bn_params)\n",
    "\n",
    "hidden2 = fully_connected(X,n_hidden1, scope=\"hidden2\", \n",
    "                          normalizer_fn = batch_norm, normalizer_params=bn_params)\n",
    "\n",
    "lo"
   ]
  }
 ],
 "metadata": {
  "kernelspec": {
   "display_name": "Python 3",
   "language": "python",
   "name": "python3"
  },
  "language_info": {
   "codemirror_mode": {
    "name": "ipython",
    "version": 3
   },
   "file_extension": ".py",
   "mimetype": "text/x-python",
   "name": "python",
   "nbconvert_exporter": "python",
   "pygments_lexer": "ipython3",
   "version": "3.6.7"
  }
 },
 "nbformat": 4,
 "nbformat_minor": 2
}
